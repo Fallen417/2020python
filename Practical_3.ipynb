{
  "nbformat": 4,
  "nbformat_minor": 0,
  "metadata": {
    "colab": {
      "name": "Practical 3",
      "provenance": [],
      "collapsed_sections": [],
      "include_colab_link": true
    },
    "kernelspec": {
      "name": "python3",
      "display_name": "Python 3"
    }
  },
  "cells": [
    {
      "cell_type": "markdown",
      "metadata": {
        "id": "view-in-github",
        "colab_type": "text"
      },
      "source": [
        "<a href=\"https://colab.research.google.com/github/Fallen417/2020python/blob/master/Practical_3.ipynb\" target=\"_parent\"><img src=\"https://colab.research.google.com/assets/colab-badge.svg\" alt=\"Open In Colab\"/></a>"
      ]
    },
    {
      "cell_type": "markdown",
      "metadata": {
        "id": "jp3BkDml8xiR",
        "colab_type": "text"
      },
      "source": [
        "# **2020 Python Programming Practical 3**\n",
        "\n",
        "If you do not have one already, create a [GitHub](https://github.com) account using your DHS Mail.\n",
        "\n",
        "Create a public repository 2020python\n",
        "\n",
        "File --> Save a copy in GitHub under your 2020python repository\n",
        "\n",
        "Also share this colab file with edit access with computing@dhs.sg\n",
        "\n"
      ]
    },
    {
      "cell_type": "markdown",
      "metadata": {
        "id": "-U8w0oQW9P_b",
        "colab_type": "text"
      },
      "source": [
        "**Q1. (Displaying an integer reversed)**\n",
        "\n",
        "Write a function reverse_int(n) to display an integer in reverse order:\n",
        "\n",
        "For example, reverse_int(3456) displays 6543."
      ]
    },
    {
      "cell_type": "code",
      "metadata": {
        "id": "D0uTR7B-8qbF",
        "colab_type": "code",
        "outputId": "4e0a931d-c80d-46e7-8d8a-6e9157c4335e",
        "colab": {
          "base_uri": "https://localhost:8080/",
          "height": 34
        }
      },
      "source": [
        "def reverse_int(n):\n",
        "  strn=str(n)\n",
        "  nn=''\n",
        "  for i in range(len(strn)-1,-1,-1):\n",
        "    nn+=strn[i]\n",
        "  return int(nn)\n",
        "\n",
        "reverse_int(3456)"
      ],
      "execution_count": 0,
      "outputs": [
        {
          "output_type": "execute_result",
          "data": {
            "text/plain": [
              "6543"
            ]
          },
          "metadata": {
            "tags": []
          },
          "execution_count": 25
        }
      ]
    },
    {
      "cell_type": "code",
      "metadata": {
        "id": "7t7KRBHEqTtV",
        "colab_type": "code",
        "outputId": "81b6c022-c1af-4a33-c935-8e8e0e04466a",
        "colab": {
          "base_uri": "https://localhost:8080/",
          "height": 34
        }
      },
      "source": [
        "#alternative:\n",
        "\n",
        "def reverse_int(n):\n",
        "  num=0\n",
        "  while n>0:\n",
        "    r=n%10\n",
        "    num=num*10+r\n",
        "    n//=10\n",
        "  return(num)\n",
        "\n",
        "reverse_int(3456)"
      ],
      "execution_count": 0,
      "outputs": [
        {
          "output_type": "execute_result",
          "data": {
            "text/plain": [
              "6543"
            ]
          },
          "metadata": {
            "tags": []
          },
          "execution_count": 32
        }
      ]
    },
    {
      "cell_type": "markdown",
      "metadata": {
        "id": "7Ui5CuS_9Za1",
        "colab_type": "text"
      },
      "source": [
        "**Q2. (Displaying patterns)**\n",
        "\n",
        "Write a function display_pattern(n) to display a pattern as follows:\n",
        "```\n",
        "              1\n",
        "            2 1\n",
        "          3 2 1\n",
        "...\n",
        "n n-1 ... 3 2 1 \n",
        "```\n",
        "\n",
        "\n"
      ]
    },
    {
      "cell_type": "code",
      "metadata": {
        "id": "CfkRAAWV9cXS",
        "colab_type": "code",
        "outputId": "5c917477-898c-4326-af39-36c49dc62e6e",
        "colab": {
          "base_uri": "https://localhost:8080/",
          "height": 102
        }
      },
      "source": [
        "def display_pattern1(n):\n",
        "  for i in range(1,n+1):  #row\n",
        "    for x in range(n-i+1,0,-(n-i+1)): #spaces\n",
        "      print(' '*x, end='')\n",
        "    for y in range(i,0,-1):  #numbers\n",
        "      print(y, end='')\n",
        "    print()\n",
        "\n",
        "def display_pattern2(n):\n",
        "  for row in range(n):  #row\n",
        "    print(' '*(n-row-1), end='')  #spaces\n",
        "    for num in range(row+1):  #numbers\n",
        "      print(num+1, end='')\n",
        "    print()\n",
        "\n",
        "display_pattern2(5)"
      ],
      "execution_count": 0,
      "outputs": [
        {
          "output_type": "stream",
          "text": [
            "    1\n",
            "   12\n",
            "  123\n",
            " 1234\n",
            "12345\n"
          ],
          "name": "stdout"
        }
      ]
    },
    {
      "cell_type": "markdown",
      "metadata": {
        "id": "aVhHiT8w9c7d",
        "colab_type": "text"
      },
      "source": [
        "**Q3. (Computing GCD)**\n",
        "\n",
        "Write a function gcd(m, n) that returns the greatest common divisor between two positive integers:\n",
        "\n",
        "Test your program with gcd(24, 16) and gcd(255, 25)."
      ]
    },
    {
      "cell_type": "code",
      "metadata": {
        "id": "PwRmweEa9fny",
        "colab_type": "code",
        "outputId": "85779267-7a4c-47bc-e83f-c530b4d0997e",
        "colab": {
          "base_uri": "https://localhost:8080/",
          "height": 51
        }
      },
      "source": [
        "def gcd(m,n): #assume m>=n else swap\n",
        "  for i in range(1,n+1):\n",
        "    if m%i==0 and n%i==0:\n",
        "      num=i\n",
        "  return num\n",
        "\n",
        "print(gcd(24,16))\n",
        "print(gcd(255,25))"
      ],
      "execution_count": 0,
      "outputs": [
        {
          "output_type": "stream",
          "text": [
            "8\n",
            "5\n"
          ],
          "name": "stdout"
        }
      ]
    },
    {
      "cell_type": "markdown",
      "metadata": {
        "colab_type": "text",
        "id": "wWe4kRS8ZmwP"
      },
      "source": [
        "**Q4. (Summing series)**\n",
        "\n",
        "Write a function m_series(i) to compute the following series:\n",
        "\n",
        "m(i) = ½ + ⅔ + … + i/(i+1)\n",
        "\n",
        "Generate the following table:\n",
        "```\n",
        "i         m(i)     \n",
        "1         0.5000   \n",
        "2         1.1667   \n",
        "... \n",
        "19        16.4023  \n",
        "20        17.3546  \n",
        "```"
      ]
    },
    {
      "cell_type": "code",
      "metadata": {
        "id": "aOozTwoR9j9B",
        "colab_type": "code",
        "outputId": "eb86dc18-c8d4-4ffe-81f9-efc659e77299",
        "colab": {
          "base_uri": "https://localhost:8080/",
          "height": 104
        }
      },
      "source": [
        "def m_series(i):\n",
        "  print('i' + '    ' + 'm(i)')\n",
        "  aa=0\n",
        "  for x in range (1, i+1):\n",
        "    aa+=x/(x+1)\n",
        "    print(x, '  ', f\"{aa:.4f}\")\n",
        "\n",
        "m_series(4)"
      ],
      "execution_count": 0,
      "outputs": [
        {
          "output_type": "stream",
          "text": [
            "i    m(i)\n",
            "1    0.5000\n",
            "2    1.1667\n",
            "3    1.9167\n",
            "4    2.7167\n"
          ],
          "name": "stdout"
        }
      ]
    },
    {
      "cell_type": "markdown",
      "metadata": {
        "id": "lE0ScX9e9kcg",
        "colab_type": "text"
      },
      "source": [
        "**Q5. (Prime number)**\n",
        "\n",
        "Write a function to determine whether an integer is a prime number. An integer greater than 1 is a prime number if its only divisor is 1 or itself. For example, is_prime(11) returns True, and is_prime(9) returns False.\n",
        "\n",
        "Use the is_prime(n) function to find the first thousand prime numbers and display every ten prime numbers in a row, as follows:\n",
        "```\n",
        "2   3   5   7   11   13   17   19   23   29\n",
        "31  37  41  43  47   53   59   61   67   71\n",
        "73  79  83  89  97  ...\n",
        "...\n",
        "```"
      ]
    },
    {
      "cell_type": "code",
      "metadata": {
        "id": "PmPFs0nDh35b",
        "colab_type": "code",
        "outputId": "080dbc24-d877-46bf-970b-26e13cd6d534",
        "colab": {
          "base_uri": "https://localhost:8080/",
          "height": 323
        }
      },
      "source": [
        "from math import sqrt\n",
        "\n",
        "def is_prime(n):\n",
        "  prime=[]\n",
        "  not_prime=[]\n",
        "  for x in range(2,n+1):\n",
        "    if x == 2: \n",
        "      prime.append(2)\n",
        "    if x > 2 and x % 2 == 0: \n",
        "      not_prime.append(x)\n",
        "    if x == 3:\n",
        "      prime.append(x)\n",
        "    if x > 2 and x % 2 != 0:\n",
        "      for i in range(3, int(sqrt(n)+1), 2): \n",
        "        if x % i == 0: \n",
        "          if x != 3 and x != 5 and x != 7:\n",
        "            not_prime.append(x)\n",
        "      if x not in not_prime[0:]:\n",
        "        if x not in prime[0:]:\n",
        "          prime.append(x)\n",
        "  \n",
        "  for a in range(0,len(prime)+20 ,11):\n",
        "    prime.insert(a,'\\n')\n",
        "  for b in range(0,len(prime)):\n",
        "    print(prime[b], end=' ')\n",
        "\n",
        "is_prime(1000)"
      ],
      "execution_count": 34,
      "outputs": [
        {
          "output_type": "stream",
          "text": [
            "\n",
            " 2 3 5 7 37 41 43 47 53 59 \n",
            " 61 67 71 73 79 83 89 97 101 103 \n",
            " 107 109 113 127 131 137 139 149 151 157 \n",
            " 163 167 173 179 181 191 193 197 199 211 \n",
            " 223 227 229 233 239 241 251 257 263 269 \n",
            " 271 277 281 283 293 307 311 313 317 331 \n",
            " 337 347 349 353 359 367 373 379 383 389 \n",
            " 397 401 409 419 421 431 433 439 443 449 \n",
            " 457 461 463 467 479 487 491 499 503 509 \n",
            " 521 523 541 547 557 563 569 571 577 587 \n",
            " 593 599 601 607 613 617 619 631 641 643 \n",
            " 647 653 659 661 673 677 683 691 701 709 \n",
            " 719 727 733 739 743 751 757 761 769 773 \n",
            " 787 797 809 811 821 823 827 829 839 853 \n",
            " 857 859 863 877 881 883 887 907 911 919 \n",
            " 929 937 941 947 953 967 971 977 983 991 \n",
            " 997 "
          ],
          "name": "stdout"
        }
      ]
    },
    {
      "cell_type": "markdown",
      "metadata": {
        "id": "KSviQY0T9m7Q",
        "colab_type": "text"
      },
      "source": [
        "**Q6. (Convert from kilograms to pounds)**\n",
        "\n",
        "Write a function print_matrix(n) that displays an n by n matrix, where n is a positive integer entered by the user. Each element is 0 or 1, which is generated randomly. A 3 by 3 matrix may look like this:\n",
        "```\n",
        "0 1 0\n",
        "0 0 0\n",
        "1 1 1 \n",
        "```"
      ]
    },
    {
      "cell_type": "code",
      "metadata": {
        "id": "YbH9Pbul9rK-",
        "colab_type": "code",
        "outputId": "85a54a63-7345-423d-f704-5ffd237297a5",
        "colab": {
          "base_uri": "https://localhost:8080/",
          "height": 187
        }
      },
      "source": [
        "from random import randint\n",
        "\n",
        "def print_matrix(n):\n",
        "  matrix=[]\n",
        "  for i in range(1,n**2+1):\n",
        "    matrix.append(randint(0,1))\n",
        "  for x in range(n,n**2,n+1):\n",
        "    matrix.insert(x,'\\n')\n",
        "  for y in range(0,n**2+n-1):\n",
        "    print(matrix[y], end='')\n",
        "\n",
        "print_matrix(10)"
      ],
      "execution_count": 10,
      "outputs": [
        {
          "output_type": "stream",
          "text": [
            "0111100111\n",
            "1100011011\n",
            "0011101111\n",
            "0000101110\n",
            "1100010110\n",
            "0010011100\n",
            "0100010101\n",
            "1110111101\n",
            "1101110111\n",
            "1010100010"
          ],
          "name": "stdout"
        }
      ]
    },
    {
      "cell_type": "markdown",
      "metadata": {
        "id": "V9Z95nlg97e4",
        "colab_type": "text"
      },
      "source": [
        "**Q7. (Converting milliseconds to hours, minutes, and seconds)**\n",
        "\n",
        "Write a method convert_ms(n) that converts milliseconds to hours, minutes, and seconds. The method returns a string as hours:minutes:seconds. For example, convert_ms(5500) returns a string 0:0:5, convert_ms(100000) returns a string 0:1:40, and convert_ms(555550000) returns a string 154:19:10.\n",
        "\n"
      ]
    },
    {
      "cell_type": "code",
      "metadata": {
        "id": "1AZvvAW499PK",
        "colab_type": "code",
        "outputId": "9c3a891c-a447-403a-a758-89233dd60459",
        "colab": {
          "base_uri": "https://localhost:8080/",
          "height": 35
        }
      },
      "source": [
        "def convert_ms(n):\n",
        "  s=int((n/1000)%60)\n",
        "  m=int((n/(1000*60))%60)\n",
        "  h=int((n/(1000*60*60))%3600)\n",
        "  print('%d:%d:%d' % (h,m,s))\n",
        "\n",
        "convert_ms(555550000)"
      ],
      "execution_count": 0,
      "outputs": [
        {
          "output_type": "stream",
          "text": [
            "154:19:10\n"
          ],
          "name": "stdout"
        }
      ]
    }
  ]
}