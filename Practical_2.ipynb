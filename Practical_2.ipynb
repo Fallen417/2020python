{
  "nbformat": 4,
  "nbformat_minor": 0,
  "metadata": {
    "colab": {
      "name": "Practical 2",
      "provenance": [],
      "collapsed_sections": [],
      "include_colab_link": true
    },
    "kernelspec": {
      "name": "python3",
      "display_name": "Python 3"
    }
  },
  "cells": [
    {
      "cell_type": "markdown",
      "metadata": {
        "id": "view-in-github",
        "colab_type": "text"
      },
      "source": [
        "<a href=\"https://colab.research.google.com/github/Fallen417/2020python/blob/master/Practical_2.ipynb\" target=\"_parent\"><img src=\"https://colab.research.google.com/assets/colab-badge.svg\" alt=\"Open In Colab\"/></a>"
      ]
    },
    {
      "cell_type": "markdown",
      "metadata": {
        "id": "jp3BkDml8xiR",
        "colab_type": "text"
      },
      "source": [
        "# **2020 Python Programming Practical 2**\n",
        "\n",
        "If you do not have one already, create a [GitHub](https://github.com) account using your DHS Mail.\n",
        "\n",
        "Create a public repository 2020python\n",
        "\n",
        "File --> Save a copy in GitHub under your 2020python repository\n",
        "\n",
        "Also share this colab file with edit access with computing@dhs.sg\n",
        "\n"
      ]
    },
    {
      "cell_type": "markdown",
      "metadata": {
        "id": "-U8w0oQW9P_b",
        "colab_type": "text"
      },
      "source": [
        "**Q1. (Check if number is odd or even)**\n",
        "\n",
        "Write a program that reads an integer and checks whether it is odd or even. \n",
        "\n",
        "Sample interaction:\n",
        "```\n",
        "Enter number: 25\n",
        "25 is odd\n",
        "\n",
        "Enter number: 8\n",
        "8 is even\n",
        "\n",
        "```"
      ]
    },
    {
      "cell_type": "code",
      "metadata": {
        "id": "D0uTR7B-8qbF",
        "colab_type": "code",
        "outputId": "454a1a8b-0f67-4a47-aa51-111e3e46b506",
        "colab": {
          "base_uri": "https://localhost:8080/",
          "height": 85
        }
      },
      "source": [
        "while True:\n",
        "  num=input('Enter number: ')\n",
        "  try:\n",
        "    number=int(num)\n",
        "    if number%2==0:\n",
        "      print(number, 'is even')\n",
        "      break\n",
        "    else:\n",
        "      print(number, 'is odd')\n",
        "      break\n",
        "  except ValueError:\n",
        "    print('This is not a number.')"
      ],
      "execution_count": 0,
      "outputs": [
        {
          "output_type": "stream",
          "text": [
            "Enter number: g\n",
            "This is not a number.\n",
            "Enter number: 24\n",
            "24 is even\n"
          ],
          "name": "stdout"
        }
      ]
    },
    {
      "cell_type": "markdown",
      "metadata": {
        "id": "7Ui5CuS_9Za1",
        "colab_type": "text"
      },
      "source": [
        "**Q2. (Validate triangles and compute perimeter)**\n",
        "\n",
        "Write a program that reads three edges for a triangle and determines whether the input is valid. The input is valid if the sum of any two edges is greater than the third edge. The program will compute the perimeter of the triangle if the input is valid. Otherwise, display that the input is invalid. \n",
        "\n",
        "Sample interaction:\n",
        "```\n",
        "Enter side 1: 2\n",
        "Enter side 2: 2\n",
        "Enter side 3: 1\n",
        "Perimeter = 5\n",
        "\n",
        "Enter side 1: 1\n",
        "Enter side 2: 2\n",
        "Enter side 3: 1\n",
        "Invalid triangle!\n",
        "\n",
        "```\n",
        "\n",
        "\n"
      ]
    },
    {
      "cell_type": "code",
      "metadata": {
        "id": "CfkRAAWV9cXS",
        "colab_type": "code",
        "outputId": "895a3db8-dda4-4f45-d8e3-1dcad89bbc11",
        "colab": {
          "base_uri": "https://localhost:8080/",
          "height": 221
        }
      },
      "source": [
        "while True:\n",
        "  side1=input('Enter side 1: ')\n",
        "  side2=input('Enter side 2: ')\n",
        "  side3=input('Enter side 3: ')\n",
        "  try:\n",
        "    tri1=int(side1)\n",
        "    tri2=int(side2)\n",
        "    tri3=int(side3)\n",
        "    if (tri1+tri2)>tri3 and (tri2+tri3)>tri1 and (tri1+tri3)>tri2:\n",
        "      peri=tri1+tri2+tri3\n",
        "      print('Perimeter =', peri)\n",
        "      break\n",
        "    else:\n",
        "      print('Invalid Triangle!')\n",
        "  except ValueError:\n",
        "    print('Invalid Triangle!')"
      ],
      "execution_count": 0,
      "outputs": [
        {
          "output_type": "stream",
          "text": [
            "Enter side 1: 5\n",
            "Enter side 2: 3\n",
            "Enter side 3: 1\n",
            "Invalid Triangle!\n",
            "Enter side 1: 0\n",
            "Enter side 2: 9\n",
            "Enter side 3: 3\n",
            "Invalid Triangle!\n",
            "Enter side 1: 10\n",
            "Enter side 2: 9\n",
            "Enter side 3: 5\n",
            "Perimeter = 24\n"
          ],
          "name": "stdout"
        }
      ]
    },
    {
      "cell_type": "markdown",
      "metadata": {
        "id": "aVhHiT8w9c7d",
        "colab_type": "text"
      },
      "source": [
        "**Q3. (Determine grade)**\n",
        "\n",
        "Write a program that prompts the user to enter a score between 0 and 100 inclusive and output the corresponding grade as well as a Pass/Fail status. Output an error message if the entered score in not within the valid range. The grading system is as follows (S and U are not passes):\n",
        "\n",
        "A: 70 - 100  \n",
        "B: 60 - 69  \n",
        "C: 55 - 59  \n",
        "D: 50 - 54  \n",
        "E: 45 - 49  \n",
        "S: 35 - 44  \n",
        "U: 0 - 34\n",
        "\n",
        "Sample interaction:\n",
        "```\n",
        "Enter score: 73\n",
        "A\n",
        "Pass\n",
        "\n",
        "Enter score: 37\n",
        "S\n",
        "Fail\n",
        "\n",
        "Enter Score: -1\n",
        "Invalid! Score must be within 0 - 100.\n",
        "\n",
        "```"
      ]
    },
    {
      "cell_type": "code",
      "metadata": {
        "id": "PwRmweEa9fny",
        "colab_type": "code",
        "outputId": "c6ff8c66-dd60-4fad-d634-b397f26d5b9e",
        "colab": {
          "base_uri": "https://localhost:8080/",
          "height": 68
        }
      },
      "source": [
        "while True:\n",
        "  score=input('Enter score: ')\n",
        "  try:\n",
        "    grade=int(score)\n",
        "    if grade>44:\n",
        "      if 70<=grade<=100:\n",
        "        print('A')\n",
        "      elif 60<=grade<70:\n",
        "        print('B')\n",
        "      elif 55<=grade<60:\n",
        "        print('C')\n",
        "      elif 50<=grade<55:\n",
        "        print('D')\n",
        "      else:\n",
        "        print('E')\n",
        "      print('Pass')\n",
        "      break\n",
        "    elif 0<=grade<=44:\n",
        "      if 35<=grade<45:\n",
        "        print('S')\n",
        "      else:\n",
        "        print('U')\n",
        "      print('Fail')\n",
        "      break\n",
        "    else:\n",
        "      print('Invalid! Score must be within 0-100.')\n",
        "  except ValueError:\n",
        "    print('Invalid! Score must be within 0-100.')"
      ],
      "execution_count": 0,
      "outputs": [
        {
          "output_type": "stream",
          "text": [
            "Enter score: 100\n",
            "A\n",
            "Pass\n"
          ],
          "name": "stdout"
        }
      ]
    },
    {
      "cell_type": "markdown",
      "metadata": {
        "id": "GwAIqQNY9gFd",
        "colab_type": "text"
      },
      "source": [
        "**Q4. (Determine leap year)**\n",
        "\n",
        "Write a program that prompts the user to enter a year and determines whether it is a leap year. A year is a leap year if it is divisible by 4 but not 100, or is divisible by 400. \n",
        "\n",
        "Sample interaction:\n",
        "```\n",
        "Enter year: 2020\n",
        "Leap\n",
        "\n",
        "Enter year: 2019\n",
        "Non-Leap\n",
        "```"
      ]
    },
    {
      "cell_type": "code",
      "metadata": {
        "id": "aOozTwoR9j9B",
        "colab_type": "code",
        "outputId": "8b5fa326-3b23-4d13-8535-f30258655018",
        "colab": {
          "base_uri": "https://localhost:8080/",
          "height": 51
        }
      },
      "source": [
        "while True:  \n",
        "  year=input('Enter year: ')\n",
        "  try:\n",
        "    y=int(year)\n",
        "    if y%4==0 and y%100!=0 or y%400==0:\n",
        "      print('Leap')\n",
        "      break\n",
        "    else:\n",
        "      print('Non-leap')\n",
        "      break\n",
        "  except ValueError:\n",
        "    print('Please enter a year.')"
      ],
      "execution_count": 0,
      "outputs": [
        {
          "output_type": "stream",
          "text": [
            "Enter year: 2020\n",
            "Leap\n"
          ],
          "name": "stdout"
        }
      ]
    },
    {
      "cell_type": "markdown",
      "metadata": {
        "id": "lE0ScX9e9kcg",
        "colab_type": "text"
      },
      "source": [
        "**Q5. (Find number of days in a month)**\n",
        "\n",
        "Write a program that prompts the user to enter the month and year, and displays the number of days in the month. Sample interaction:\n",
        "```\n",
        "Enter month: 2\n",
        "Enter year: 2020\n",
        "February 2020 has 29 days.\n",
        "\n",
        "Enter month: 3\n",
        "Enter year: 2021\n",
        "March 2021 has 31 days.\n",
        "\n",
        "```"
      ]
    },
    {
      "cell_type": "code",
      "metadata": {
        "id": "sE_bxwDs9mf6",
        "colab_type": "code",
        "outputId": "53b57488-d689-41bd-ab2f-5a69974bf58c",
        "colab": {
          "base_uri": "https://localhost:8080/",
          "height": 68
        }
      },
      "source": [
        "from calendar import monthrange\n",
        "from calendar import month_name\n",
        "\n",
        "while True:\n",
        "  month=input('Enter month: ')\n",
        "  year=input('Enter year: ') \n",
        "  try:\n",
        "    m=int(month)\n",
        "    y=int(year)\n",
        "    if 1<=m<=12 and len(year)==4:\n",
        "      days=monthrange(y,m)\n",
        "      print(month_name[m], y, 'has', days[1], 'days.')\n",
        "      break\n",
        "    else:\n",
        "      print('Please enter a proper month and year.')\n",
        "  except ValueError:\n",
        "    print('Please enter a proper month and year.')"
      ],
      "execution_count": 0,
      "outputs": [
        {
          "output_type": "stream",
          "text": [
            "Enter month: 2\n",
            "Enter year: 2020\n",
            "February 2020 has 29 days.\n"
          ],
          "name": "stdout"
        }
      ]
    },
    {
      "cell_type": "markdown",
      "metadata": {
        "id": "KSviQY0T9m7Q",
        "colab_type": "text"
      },
      "source": [
        "**Q6. (Convert from kilograms to pounds)**\n",
        "\n",
        "Write a program that displays the following table (1 kilogram = 2.2 pounds):\n",
        "```\n",
        "Kilograms Pounds\n",
        "1         2.2\n",
        "2         4.4\n",
        "3         6.6\n",
        "...\n",
        "9         19.8\n",
        "10        22.0\n",
        "```"
      ]
    },
    {
      "cell_type": "code",
      "metadata": {
        "id": "YbH9Pbul9rK-",
        "colab_type": "code",
        "colab": {}
      },
      "source": [
        "from tabulate import tabulate\n",
        "\n",
        "while True:\n",
        "  times=input('Convert kilogram up till? ')\n",
        "  try:\n",
        "    t=int(times)\n",
        "    ans=[(kilo, kilo*2.2) for kilo in range(1,t+1)]\n",
        "    print(tabulate(ans, ['Kilograms', 'Pounds'], 'fancy_grid', '.1f', 'center'))\n",
        "    break\n",
        "  except ValueError:\n",
        "    print('Please enter correct range you want for table.')"
      ],
      "execution_count": 0,
      "outputs": []
    },
    {
      "cell_type": "markdown",
      "metadata": {
        "id": "V9Z95nlg97e4",
        "colab_type": "text"
      },
      "source": [
        "**Q7. (Convert from miles to kilometres)**\n",
        "\n",
        "Write a program that displays the following two tables side-by-side (1 mile = 1.609 kilometres):\n",
        "```\n",
        "Miles\tKilometers\tKilometres\tMiles\n",
        "1    \t1.609     \t20        \t12.430\n",
        "2    \t3.218     \t25        \t15.538\n",
        "\n",
        "...\n",
        "9    \t14.481    \t60        \t37.290\n",
        "10   \t16.090    \t65        \t40.398\n",
        "```\n",
        "\n"
      ]
    },
    {
      "cell_type": "code",
      "metadata": {
        "id": "1AZvvAW499PK",
        "colab_type": "code",
        "outputId": "1d0ca689-7814-4bfb-a216-af627a98ed33",
        "colab": {
          "base_uri": "https://localhost:8080/",
          "height": 260
        }
      },
      "source": [
        "from tabulate import tabulate\n",
        "\n",
        "while True:\n",
        "  miles=input('Convert miles to km and vice versa up till: ')\n",
        "  km=miles\n",
        "  try:\n",
        "    m=int(miles)\n",
        "    k=int(km)\n",
        "    ans=[(x, x*1.609, y, y/1.609) for x,y in zip(range(1,m+1), range(1,k+1))]\n",
        "    print((tabulate(ans, ['Miles', 'Kilometres', 'Kilometres', 'Miles'], 'fancy_grid', '.3f', 'center', missingval='?')))\n",
        "    break\n",
        "  except ValueError:\n",
        "    print('Please enter correct range you want for table.')"
      ],
      "execution_count": 1,
      "outputs": [
        {
          "output_type": "stream",
          "text": [
            "Convert miles to km and vice versa up till: 5\n",
            "╒═════════╤══════════════╤══════════════╤═════════╕\n",
            "│  Miles  │  Kilometres  │  Kilometres  │  Miles  │\n",
            "╞═════════╪══════════════╪══════════════╪═════════╡\n",
            "│    1    │    1.609     │      1       │  0.622  │\n",
            "├─────────┼──────────────┼──────────────┼─────────┤\n",
            "│    2    │    3.218     │      2       │  1.243  │\n",
            "├─────────┼──────────────┼──────────────┼─────────┤\n",
            "│    3    │    4.827     │      3       │  1.865  │\n",
            "├─────────┼──────────────┼──────────────┼─────────┤\n",
            "│    4    │    6.436     │      4       │  2.486  │\n",
            "├─────────┼──────────────┼──────────────┼─────────┤\n",
            "│    5    │    8.045     │      5       │  3.108  │\n",
            "╘═════════╧══════════════╧══════════════╧═════════╛\n"
          ],
          "name": "stdout"
        }
      ]
    },
    {
      "cell_type": "code",
      "metadata": {
        "id": "COlSegPsNrXm",
        "colab_type": "code",
        "colab": {}
      },
      "source": [
        ""
      ],
      "execution_count": 0,
      "outputs": []
    },
    {
      "cell_type": "markdown",
      "metadata": {
        "colab_type": "text",
        "id": "79toYNfyD9XP"
      },
      "source": [
        "**Q8. (Find two highest scores)**\n",
        "\n",
        "Write a program that prompts the user to enter the number of students and each student's name and score, and finally displays the student with the highest score and the student with the second-highest score. Enter up to 5 student records.\n",
        "\n"
      ]
    },
    {
      "cell_type": "code",
      "metadata": {
        "colab_type": "code",
        "id": "CeriUTOATgJ8",
        "colab": {}
      },
      "source": [
        "total=0\n",
        "no1=0\n",
        "no2=0\n",
        "grade={}\n",
        "while True:\n",
        "  num=input('Enter number of students: ')\n",
        "  try:\n",
        "    n=int(num)\n",
        "    if n<=5:\n",
        "      for total in range(1,n+1):\n",
        "        name=input('Enter student\\'s name: ')\n",
        "        score=input('Enter student\\'s score: ')\n",
        "        try:\n",
        "          s=int(score)\n",
        "          grade[s]=name\n",
        "          if len(grade) == 1:\n",
        "            no2 = total\n",
        "          elif s >= list(grade.keys())[no1-1]:\n",
        "            no1 = no2\n",
        "            no2 = total\n",
        "          elif s >= list(grade.keys())[no2-1]:\n",
        "            no2=total\n",
        "          total+=1\n",
        "        except ValueError:\n",
        "          print('The grade you entered was not correct. Exiting App...')\n",
        "          break\n",
        "      try:\n",
        "        print('Student with highest score:', list(grade.values())[no1-1])\n",
        "        print('Student with second highest score:', list(grade.values())[no2-1])\n",
        "        break\n",
        "      except IndexError:\n",
        "        break\n",
        "    else:\n",
        "      print(\"Only able to enter up to 5 student records.\")\n",
        "  except ValueError:\n",
        "    print('Please enter correctly.')"
      ],
      "execution_count": 0,
      "outputs": []
    },
    {
      "cell_type": "markdown",
      "metadata": {
        "id": "seLRswd3ED9x",
        "colab_type": "text"
      },
      "source": [
        "**Q9. (Finding the smallest n such that n<sup>2</sup> > 12000)**\n",
        "\n",
        "Use a while loop to find the smallest integer n such that n<sup>2</sup> is greater than 12,000. "
      ]
    },
    {
      "cell_type": "code",
      "metadata": {
        "id": "n_1AS9EREHgQ",
        "colab_type": "code",
        "colab": {
          "base_uri": "https://localhost:8080/",
          "height": 35
        },
        "outputId": "ef9f49e4-2729-4fd5-fcde-5888d96c8ce0"
      },
      "source": [
        "n=0\n",
        "while n**2<12000:\n",
        "  n+=1\n",
        "  #print(n,'  ', n**2)\n",
        "print(n)"
      ],
      "execution_count": 3,
      "outputs": [
        {
          "output_type": "stream",
          "text": [
            "110\n"
          ],
          "name": "stdout"
        }
      ]
    },
    {
      "cell_type": "markdown",
      "metadata": {
        "id": "YHyv5TE6EH24",
        "colab_type": "text"
      },
      "source": [
        "**Q10. (Finding the largest n such that n<sup>3</sup> < 12000)** \n",
        "\n",
        "Use a while loop to find the largest integer n such that n<sup>3</sup> is less than 12,000."
      ]
    },
    {
      "cell_type": "code",
      "metadata": {
        "id": "B--GNWkcEKkR",
        "colab_type": "code",
        "outputId": "4a665e1c-8653-41c4-b15b-dc0baee2415d",
        "colab": {
          "base_uri": "https://localhost:8080/",
          "height": 35
        }
      },
      "source": [
        "n=0\n",
        "while n**3<12000:\n",
        "  n+=1\n",
        "  #print(n, '  ', n**3)\n",
        "print(n)"
      ],
      "execution_count": 4,
      "outputs": [
        {
          "output_type": "stream",
          "text": [
            "23\n"
          ],
          "name": "stdout"
        }
      ]
    },
    {
      "cell_type": "markdown",
      "metadata": {
        "id": "lr8Er0cXEKzY",
        "colab_type": "text"
      },
      "source": [
        "**Q11. (Computing the greatest common divisor)**\n",
        "\n",
        "A solution to find the greatest common divisor of two integers n1 and n2 is as follows:\n",
        "* First find d to be the minimum of n1 and n2\n",
        "* Then check whether d, d-1, … d-2, 2, or 1 is a divisor for both n1 and n2 in this order.\n",
        "* The first such common divisor is the greatest common divisor for n1 and n2. \n",
        "\n",
        "Write a program to implement this solution.  \n",
        "Sample interaction:\n",
        "```\n",
        "Enter n1: 12\n",
        "Enter n2: 18\n",
        "GCD: 6\n",
        "```"
      ]
    },
    {
      "cell_type": "code",
      "metadata": {
        "id": "T8iKWDpgEOSw",
        "colab_type": "code",
        "outputId": "d22f9f7a-1fca-4f72-b40d-c23bffbc6f71",
        "colab": {
          "base_uri": "https://localhost:8080/",
          "height": 69
        }
      },
      "source": [
        "while True:\n",
        "  n1=input('Enter n1: ')\n",
        "  n2=input('Enter n2: ')\n",
        "  try:\n",
        "    x=int(n1)\n",
        "    y=int(n2)\n",
        "    if x<y:\n",
        "      d=x\n",
        "    elif y<x:\n",
        "      d=y\n",
        "    while d>0:\n",
        "      if x%d==0 and y%d==0:\n",
        "        print('GCD =', d)\n",
        "        break\n",
        "      else:\n",
        "        d-=1\n",
        "    break\n",
        "  except ValueError:\n",
        "    print('Enter correct values.')"
      ],
      "execution_count": 0,
      "outputs": [
        {
          "output_type": "stream",
          "text": [
            "Enter n1: 3\n",
            "Enter n2: 2\n",
            "GCD = 1\n"
          ],
          "name": "stdout"
        }
      ]
    },
    {
      "cell_type": "markdown",
      "metadata": {
        "id": "-kojjY6zEOkn",
        "colab_type": "text"
      },
      "source": [
        "**Q12. (Find factors of a positive integer)**\n",
        "\n",
        "Write a program that reads a positive integer > 1 and displays all its factors.   \n",
        "Sample interaction:\n",
        "```\n",
        "Enter n: 120\n",
        "Factors: 2 2 2 3 5 \n",
        "```"
      ]
    },
    {
      "cell_type": "code",
      "metadata": {
        "id": "s3hoL9l5EPjU",
        "colab_type": "code",
        "colab": {
          "base_uri": "https://localhost:8080/",
          "height": 69
        },
        "outputId": "9c611059-f7f1-48ab-9664-4001a5f80eb0"
      },
      "source": [
        "from sympy import isprime\n",
        "\n",
        "prime_factor=[]\n",
        "factors=[]\n",
        "d=2\n",
        "e=2\n",
        "\n",
        "while True:\n",
        "  n=input('Enter n: ')\n",
        "  try:\n",
        "    num=int(n)\n",
        "    if num>1:\n",
        "      while d*d<=num:\n",
        "        if isprime(d)==True:\n",
        "          if num%d==0:\n",
        "            prime_factor.append(d)\n",
        "            d+=1\n",
        "          else:\n",
        "            d+=1\n",
        "        else:\n",
        "          d+=1\n",
        "      while e<=num:\n",
        "        if num%e==0:\n",
        "          factors.append(e)\n",
        "          num=num//e\n",
        "        else:\n",
        "          e+=1\n",
        "      break\n",
        "    else:\n",
        "      print('Please enter a positive integer greater than 1.')\n",
        "  except ValueError:\n",
        "    print('Please enter a integer.')\n",
        "\n",
        "print('Prime factors of', n, 'are:', prime_factor[0:])\n",
        "print('Factors of', n, 'are:', factors[0:])"
      ],
      "execution_count": 75,
      "outputs": [
        {
          "output_type": "stream",
          "text": [
            "Enter n: 120\n",
            "Prime factors of 120 are: [2, 3, 5]\n",
            "Factors of 120 are: [2, 2, 2, 3, 5]\n"
          ],
          "name": "stdout"
        }
      ]
    }
  ]
}